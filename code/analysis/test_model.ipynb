{
 "cells": [
  {
   "cell_type": "code",
   "execution_count": 1,
   "metadata": {},
   "outputs": [],
   "source": [
    "import pandas as pd\n",
    "import matplotlib.pyplot as plt\n",
    "import os\n",
    "import sys\n",
    "sys.path.append('/Users/scarere/Documents/UofT/OneDrive-UofT/mbp1413_final_project/code')\n",
    "from utils.segment_metrics import IOU_eval\n",
    "import torch\n",
    "from utils.helper_functions import load_data\n",
    "import numpy as np\n",
    "import torch\n",
    "from utils.segment_metrics import IOU_eval\n",
    "import tqdm.notebook as t"
   ]
  },
  {
   "cell_type": "code",
   "execution_count": 2,
   "metadata": {},
   "outputs": [],
   "source": [
    "model_path = '../trained_models/baselines/unet_basic/unet_basic_test14_3'\n",
    "model_name = 'ckpt_epoch_35.pt'\n",
    "data_dir = '../data'"
   ]
  },
  {
   "cell_type": "code",
   "execution_count": 3,
   "metadata": {},
   "outputs": [],
   "source": [
    "model = torch.load(os.path.join(model_path, model_name), map_location=torch.device('cpu'))\n",
    "model = model.eval()"
   ]
  },
  {
   "cell_type": "code",
   "execution_count": 4,
   "metadata": {},
   "outputs": [],
   "source": [
    "#x_train, y_train = load_data(os.path.join(data_dir, 'data_sayan/undistorted', 'train.pt'), switch_channel_dim=True, thresh=train_args['train_mask_threshold'])\n",
    "x_val, y_val = load_data(os.path.join(data_dir, 'downsized_cropped', 'val.pt'), switch_channel_dim=True, thresh=0.5)\n",
    "x_test, y_test = load_data(os.path.join(data_dir, 'downsized_cropped', 'test.pt'), switch_channel_dim=True, thresh=0.5)"
   ]
  },
  {
   "cell_type": "code",
   "execution_count": 5,
   "metadata": {},
   "outputs": [],
   "source": [
    "pred_val = model(x_val)"
   ]
  },
  {
   "cell_type": "code",
   "execution_count": 6,
   "metadata": {},
   "outputs": [
    {
     "name": "stdout",
     "output_type": "stream",
     "text": [
      "0.7570582032203674\n"
     ]
    }
   ],
   "source": [
    "iou_val = IOU_eval().iou_evaluate_better(y_val.int(), pred_val)\n",
    "print(float(iou_val))"
   ]
  },
  {
   "cell_type": "code",
   "execution_count": 7,
   "metadata": {},
   "outputs": [],
   "source": [
    "pred_test = model(x_test)"
   ]
  },
  {
   "cell_type": "code",
   "execution_count": 8,
   "metadata": {},
   "outputs": [
    {
     "name": "stdout",
     "output_type": "stream",
     "text": [
      "0.7299535274505615\n"
     ]
    }
   ],
   "source": [
    "iou_test = IOU_eval().iou_evaluate_better(y_test.int(), pred_test)\n",
    "print(float(iou_test))"
   ]
  },
  {
   "cell_type": "markdown",
   "metadata": {},
   "source": [
    "## Unet basic baseline averages"
   ]
  },
  {
   "cell_type": "code",
   "execution_count": 9,
   "metadata": {},
   "outputs": [],
   "source": [
    "val = [0.736004, 0.776850, 0.757058]\n",
    "test = [0.697885, 0.757641, 0.729954]"
   ]
  }
 ],
 "metadata": {
  "interpreter": {
   "hash": "d3a9543aec2f8534bb24b8aeb6f7a90e62cc17ac68d0ab0f603f0d4f81ac0ecc"
  },
  "kernelspec": {
   "display_name": "Python 3.8.6 ('nuclei-seg')",
   "language": "python",
   "name": "python3"
  },
  "language_info": {
   "codemirror_mode": {
    "name": "ipython",
    "version": 3
   },
   "file_extension": ".py",
   "mimetype": "text/x-python",
   "name": "python",
   "nbconvert_exporter": "python",
   "pygments_lexer": "ipython3",
   "version": "3.8.6"
  },
  "orig_nbformat": 4
 },
 "nbformat": 4,
 "nbformat_minor": 2
}
