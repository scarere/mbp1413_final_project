{
 "cells": [
  {
   "cell_type": "code",
   "execution_count": 1,
   "metadata": {},
   "outputs": [],
   "source": [
    "import pandas as pd\n",
    "import matplotlib.pyplot as plt\n",
    "import os\n",
    "import sys\n",
    "sys.path.append('/Users/scarere/Documents/UofT/OneDrive-UofT/mbp1413_final_project/code')\n",
    "from utils.segment_metrics import IOU_eval\n",
    "import torch\n",
    "from utils.helper_functions import load_data\n",
    "import numpy as np\n",
    "import torch\n",
    "from utils.segment_metrics import IOU_eval\n",
    "import tqdm.notebook as t"
   ]
  },
  {
   "cell_type": "code",
   "execution_count": 2,
   "metadata": {},
   "outputs": [],
   "source": [
    "model_path = '../trained_models/baselines/unet_basic/unet_basic_test14_3'\n",
    "model_name = 'ckpt_epoch_35.pt'\n",
    "data_dir = '../data'"
   ]
  },
  {
   "cell_type": "code",
   "execution_count": 3,
   "metadata": {},
   "outputs": [
    {
     "name": "stdout",
     "output_type": "stream",
     "text": [
      "torch.Size([2, 512, 24, 24]) torch.Size([2, 512, 25, 25]) torch.Size([2, 512, 12, 12])\n"
     ]
    },
    {
     "ename": "RuntimeError",
     "evalue": "Sizes of tensors must match except in dimension 1. Expected size 24 but got size 25 for tensor number 1 in the list.",
     "output_type": "error",
     "traceback": [
      "\u001b[0;31m---------------------------------------------------------------------------\u001b[0m",
      "\u001b[0;31mRuntimeError\u001b[0m                              Traceback (most recent call last)",
      "\u001b[1;32m/Users/scarere/Documents/UofT/OneDrive-UofT/mbp1413_final_project/code/analysis/test_model.ipynb Cell 3'\u001b[0m in \u001b[0;36m<cell line: 4>\u001b[0;34m()\u001b[0m\n\u001b[1;32m      <a href='vscode-notebook-cell:/Users/scarere/Documents/UofT/OneDrive-UofT/mbp1413_final_project/code/analysis/test_model.ipynb#ch0000002?line=1'>2</a>\u001b[0m model \u001b[39m=\u001b[39m model\u001b[39m.\u001b[39meval()\n\u001b[1;32m      <a href='vscode-notebook-cell:/Users/scarere/Documents/UofT/OneDrive-UofT/mbp1413_final_project/code/analysis/test_model.ipynb#ch0000002?line=2'>3</a>\u001b[0m z \u001b[39m=\u001b[39m torch\u001b[39m.\u001b[39mzeros(size\u001b[39m=\u001b[39m(\u001b[39m2\u001b[39m, \u001b[39m3\u001b[39m, \u001b[39m200\u001b[39m, \u001b[39m200\u001b[39m))\n\u001b[0;32m----> <a href='vscode-notebook-cell:/Users/scarere/Documents/UofT/OneDrive-UofT/mbp1413_final_project/code/analysis/test_model.ipynb#ch0000002?line=3'>4</a>\u001b[0m zo \u001b[39m=\u001b[39m model(z)\n",
      "File \u001b[0;32m~/venv/nuclei-seg/lib/python3.8/site-packages/torch/nn/modules/module.py:1110\u001b[0m, in \u001b[0;36mModule._call_impl\u001b[0;34m(self, *input, **kwargs)\u001b[0m\n\u001b[1;32m   <a href='file:///~/venv/nuclei-seg/lib/python3.8/site-packages/torch/nn/modules/module.py?line=1105'>1106</a>\u001b[0m \u001b[39m# If we don't have any hooks, we want to skip the rest of the logic in\u001b[39;00m\n\u001b[1;32m   <a href='file:///~/venv/nuclei-seg/lib/python3.8/site-packages/torch/nn/modules/module.py?line=1106'>1107</a>\u001b[0m \u001b[39m# this function, and just call forward.\u001b[39;00m\n\u001b[1;32m   <a href='file:///~/venv/nuclei-seg/lib/python3.8/site-packages/torch/nn/modules/module.py?line=1107'>1108</a>\u001b[0m \u001b[39mif\u001b[39;00m \u001b[39mnot\u001b[39;00m (\u001b[39mself\u001b[39m\u001b[39m.\u001b[39m_backward_hooks \u001b[39mor\u001b[39;00m \u001b[39mself\u001b[39m\u001b[39m.\u001b[39m_forward_hooks \u001b[39mor\u001b[39;00m \u001b[39mself\u001b[39m\u001b[39m.\u001b[39m_forward_pre_hooks \u001b[39mor\u001b[39;00m _global_backward_hooks\n\u001b[1;32m   <a href='file:///~/venv/nuclei-seg/lib/python3.8/site-packages/torch/nn/modules/module.py?line=1108'>1109</a>\u001b[0m         \u001b[39mor\u001b[39;00m _global_forward_hooks \u001b[39mor\u001b[39;00m _global_forward_pre_hooks):\n\u001b[0;32m-> <a href='file:///~/venv/nuclei-seg/lib/python3.8/site-packages/torch/nn/modules/module.py?line=1109'>1110</a>\u001b[0m     \u001b[39mreturn\u001b[39;00m forward_call(\u001b[39m*\u001b[39;49m\u001b[39minput\u001b[39;49m, \u001b[39m*\u001b[39;49m\u001b[39m*\u001b[39;49mkwargs)\n\u001b[1;32m   <a href='file:///~/venv/nuclei-seg/lib/python3.8/site-packages/torch/nn/modules/module.py?line=1110'>1111</a>\u001b[0m \u001b[39m# Do not call functions when jit is used\u001b[39;00m\n\u001b[1;32m   <a href='file:///~/venv/nuclei-seg/lib/python3.8/site-packages/torch/nn/modules/module.py?line=1111'>1112</a>\u001b[0m full_backward_hooks, non_full_backward_hooks \u001b[39m=\u001b[39m [], []\n",
      "File \u001b[0;32m~/Documents/UofT/OneDrive-UofT/mbp1413_final_project/code/utils/model_utils.py:570\u001b[0m, in \u001b[0;36mUNet.forward\u001b[0;34m(self, x)\u001b[0m\n\u001b[1;32m    <a href='file:///~/Documents/UofT/OneDrive-UofT/mbp1413_final_project/code/utils/model_utils.py?line=565'>566</a>\u001b[0m \u001b[39m# Decode\u001b[39;00m\n\u001b[1;32m    <a href='file:///~/Documents/UofT/OneDrive-UofT/mbp1413_final_project/code/utils/model_utils.py?line=566'>567</a>\u001b[0m \u001b[39m#print(x.shape, encode_block1.shape, encode_block2.shape, encode_block3.shape, encode_pool3.shape, bottleneck1.shape)\u001b[39;00m\n\u001b[1;32m    <a href='file:///~/Documents/UofT/OneDrive-UofT/mbp1413_final_project/code/utils/model_utils.py?line=567'>568</a>\u001b[0m \u001b[39m#print('Decode Block 3')\u001b[39;00m\n\u001b[1;32m    <a href='file:///~/Documents/UofT/OneDrive-UofT/mbp1413_final_project/code/utils/model_utils.py?line=568'>569</a>\u001b[0m \u001b[39mprint\u001b[39m(bottleneck1\u001b[39m.\u001b[39mshape, encode_block4\u001b[39m.\u001b[39mshape, encode_pool4\u001b[39m.\u001b[39mshape)\n\u001b[0;32m--> <a href='file:///~/Documents/UofT/OneDrive-UofT/mbp1413_final_project/code/utils/model_utils.py?line=569'>570</a>\u001b[0m decode_block4 \u001b[39m=\u001b[39m \u001b[39mself\u001b[39;49m\u001b[39m.\u001b[39;49mcrop_and_concat(bottleneck1, encode_block4, crop\u001b[39m=\u001b[39;49m\u001b[39mTrue\u001b[39;49;00m)\n\u001b[1;32m    <a href='file:///~/Documents/UofT/OneDrive-UofT/mbp1413_final_project/code/utils/model_utils.py?line=570'>571</a>\u001b[0m cat_layer3 \u001b[39m=\u001b[39m \u001b[39mself\u001b[39m\u001b[39m.\u001b[39mconv_decode4(decode_block4)\n\u001b[1;32m    <a href='file:///~/Documents/UofT/OneDrive-UofT/mbp1413_final_project/code/utils/model_utils.py?line=571'>572</a>\u001b[0m decode_block3 \u001b[39m=\u001b[39m \u001b[39mself\u001b[39m\u001b[39m.\u001b[39mcrop_and_concat(cat_layer3, encode_block3, crop\u001b[39m=\u001b[39m\u001b[39mTrue\u001b[39;00m)\n",
      "File \u001b[0;32m~/Documents/UofT/OneDrive-UofT/mbp1413_final_project/code/utils/model_utils.py:551\u001b[0m, in \u001b[0;36mUNet.crop_and_concat\u001b[0;34m(self, upsampled, bypass, crop)\u001b[0m\n\u001b[1;32m    <a href='file:///~/Documents/UofT/OneDrive-UofT/mbp1413_final_project/code/utils/model_utils.py?line=548'>549</a>\u001b[0m     c \u001b[39m=\u001b[39m (bypass\u001b[39m.\u001b[39msize()[\u001b[39m2\u001b[39m] \u001b[39m-\u001b[39m upsampled\u001b[39m.\u001b[39msize()[\u001b[39m2\u001b[39m]) \u001b[39m/\u001b[39m\u001b[39m/\u001b[39m \u001b[39m2\u001b[39m\n\u001b[1;32m    <a href='file:///~/Documents/UofT/OneDrive-UofT/mbp1413_final_project/code/utils/model_utils.py?line=549'>550</a>\u001b[0m     bypass \u001b[39m=\u001b[39m F\u001b[39m.\u001b[39mpad(bypass, (\u001b[39m-\u001b[39mc, \u001b[39m-\u001b[39mc, \u001b[39m-\u001b[39mc, \u001b[39m-\u001b[39mc))\n\u001b[0;32m--> <a href='file:///~/Documents/UofT/OneDrive-UofT/mbp1413_final_project/code/utils/model_utils.py?line=550'>551</a>\u001b[0m \u001b[39mreturn\u001b[39;00m torch\u001b[39m.\u001b[39;49mcat((upsampled, bypass), \u001b[39m1\u001b[39;49m)\n",
      "\u001b[0;31mRuntimeError\u001b[0m: Sizes of tensors must match except in dimension 1. Expected size 24 but got size 25 for tensor number 1 in the list."
     ]
    }
   ],
   "source": [
    "model = torch.load(os.path.join(model_path, model_name), map_location=torch.device('cpu'))\n",
    "model = model.eval()\n",
    "z = torch.zeros(size=(2, 3, 200, 200))\n",
    "zo = model(z)"
   ]
  },
  {
   "cell_type": "code",
   "execution_count": 4,
   "metadata": {},
   "outputs": [],
   "source": [
    "#x_train, y_train = load_data(os.path.join(data_dir, 'data_sayan/undistorted', 'train.pt'), switch_channel_dim=True, thresh=train_args['train_mask_threshold'])\n",
    "x_val, y_val = load_data(os.path.join(data_dir, 'downsized_cropped', 'val.pt'), switch_channel_dim=True, thresh=0.5)\n",
    "x_test, y_test = load_data(os.path.join(data_dir, 'downsized_cropped', 'test.pt'), switch_channel_dim=True, thresh=0.5)"
   ]
  },
  {
   "cell_type": "code",
   "execution_count": 5,
   "metadata": {},
   "outputs": [],
   "source": [
    "pred_val = model(x_val)"
   ]
  },
  {
   "cell_type": "code",
   "execution_count": 6,
   "metadata": {},
   "outputs": [
    {
     "name": "stdout",
     "output_type": "stream",
     "text": [
      "0.7570582032203674\n"
     ]
    }
   ],
   "source": [
    "iou_val = IOU_eval().iou_evaluate_better(y_val.int(), pred_val)\n",
    "print(float(iou_val))"
   ]
  },
  {
   "cell_type": "code",
   "execution_count": 7,
   "metadata": {},
   "outputs": [],
   "source": [
    "pred_test = model(x_test)"
   ]
  },
  {
   "cell_type": "code",
   "execution_count": 8,
   "metadata": {},
   "outputs": [
    {
     "name": "stdout",
     "output_type": "stream",
     "text": [
      "0.7299535274505615\n"
     ]
    }
   ],
   "source": [
    "iou_test = IOU_eval().iou_evaluate_better(y_test.int(), pred_test)\n",
    "print(float(iou_test))"
   ]
  },
  {
   "cell_type": "markdown",
   "metadata": {},
   "source": [
    "## Unet basic baseline averages"
   ]
  },
  {
   "cell_type": "code",
   "execution_count": 10,
   "metadata": {},
   "outputs": [
    {
     "name": "stdout",
     "output_type": "stream",
     "text": [
      "0.7566373333333333\n",
      "0.016677962492129834\n",
      "0.7284933333333333\n",
      "0.024417139394741202\n"
     ]
    }
   ],
   "source": [
    "val = [0.736004, 0.776850, 0.757058]\n",
    "test = [0.697885, 0.757641, 0.729954]\n",
    "\n",
    "print(np.mean(val))\n",
    "print(np.std(val))\n",
    "print(np.mean(test))\n",
    "print(np.std(test))"
   ]
  }
 ],
 "metadata": {
  "interpreter": {
   "hash": "d3a9543aec2f8534bb24b8aeb6f7a90e62cc17ac68d0ab0f603f0d4f81ac0ecc"
  },
  "kernelspec": {
   "display_name": "Python 3.8.6 ('nuclei-seg')",
   "language": "python",
   "name": "python3"
  },
  "language_info": {
   "codemirror_mode": {
    "name": "ipython",
    "version": 3
   },
   "file_extension": ".py",
   "mimetype": "text/x-python",
   "name": "python",
   "nbconvert_exporter": "python",
   "pygments_lexer": "ipython3",
   "version": "3.8.6"
  },
  "orig_nbformat": 4
 },
 "nbformat": 4,
 "nbformat_minor": 2
}
