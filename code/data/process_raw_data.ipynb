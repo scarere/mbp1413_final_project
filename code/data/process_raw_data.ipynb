{
 "cells": [
  {
   "cell_type": "markdown",
   "metadata": {},
   "source": [
    "# Process Data\n",
    "\n",
    "This notebook:\n",
    "- loads the raw images from the kaggle dataset\n",
    "- Converts them to a uniform size without distorting them\n",
    "- Generates the mask images for the test and validation images given the encoded solutions\n",
    "- Packages the images, their masks and the image id's into a dictionary and saves them."
   ]
  },
  {
   "cell_type": "markdown",
   "metadata": {},
   "source": [
    "## File Paths"
   ]
  },
  {
   "cell_type": "code",
   "execution_count": 5,
   "metadata": {},
   "outputs": [],
   "source": [
    "test_dir = 'kaggle_raw/stage2_test_final'\n",
    "val_dir = 'kaggle_raw/stage1_test'\n",
    "train_dir = 'kaggle_raw/stage1_train'\n",
    "train_mask_csv = 'kaggle_raw/stage1_train_labels_withmeta.csv'\n",
    "val_mask_csv = 'kaggle_raw/stage1_solution.csv'\n",
    "test_mask_csv = 'kaggle_raw/stage2_solution_final.csv'"
   ]
  },
  {
   "cell_type": "markdown",
   "metadata": {},
   "source": [
    "## Imports"
   ]
  },
  {
   "cell_type": "code",
   "execution_count": 6,
   "metadata": {},
   "outputs": [],
   "source": [
    "import numpy as np\n",
    "import torch\n",
    "from imageio import imread\n",
    "import pandas as pd\n",
    "import os\n",
    "from create_masks import CreateMask\n",
    "import matplotlib.pyplot as plt\n",
    "from tqdm.notebook import tqdm\n",
    "from skimage.transform import rescale, resize"
   ]
  },
  {
   "cell_type": "markdown",
   "metadata": {},
   "source": [
    "## Data Loading Functions"
   ]
  },
  {
   "cell_type": "code",
   "execution_count": 7,
   "metadata": {},
   "outputs": [],
   "source": [
    "def img_2_square(img, new_size=128):\n",
    "    '''Crops and resizes an image into one or several square images without distorting\n",
    "    the contents of the image.\n",
    "\n",
    "    Args:\n",
    "        img: a numpy array ot tuple containing the image\n",
    "        new_size (int): An integer representing the length and width\n",
    "            of the ouput images\n",
    "\n",
    "    Returns:\n",
    "        output_images (list): A list containing the output images. If an\n",
    "            image is highly rectangular, then it is split into multiple\n",
    "            sub images in order to preserve as much data as possible\n",
    "    '''\n",
    "    img = np.array(img)\n",
    "    dim = img.shape\n",
    "    \n",
    "    if (dim[0] > dim[1]):\n",
    "        num_splits = int(dim[0]/dim[1] + 0.5)\n",
    "        step = int(dim[0]/num_splits)\n",
    "        img_list = [img[step*i: step*(i + 1), :] for i in range(num_splits)]\n",
    "    else:\n",
    "        num_splits = int(dim[1]/dim[0] + 0.5)\n",
    "        step = int(dim[1]/num_splits)\n",
    "        img_list = [img[:, step*i: step*(i + 1)] for i in range(num_splits)]\n",
    "    \n",
    "    output_images = []\n",
    "    for im in img_list:\n",
    "        # Scale the smaller dimension to the exact desired size, and crop the excess\n",
    "        scale = new_size/np.min(im.shape[0:2])\n",
    "        if len(dim) == 3:\n",
    "            im = rescale(im, scale=(scale, scale, 1))\n",
    "        else:\n",
    "            im = rescale(im, scale=scale)\n",
    "        im = im[:new_size, :new_size]\n",
    "        output_images.append(im)\n",
    "\n",
    "    return output_images\n",
    "\n",
    "def img_2_square_crop(img, new_size=128):\n",
    "    '''Crops an image into one or several square images without resizing\n",
    "    or distorting the image at all. Note all images must be at least new_size\n",
    "    along both dimensions.\n",
    "\n",
    "    Returns:\n",
    "        output_images (list): A list containing the output images. If an\n",
    "            image is highly rectangular, then it is split into multiple\n",
    "            sub images in order to preserve as much data as possible\n",
    "    '''\n",
    "    img = np.array(img)\n",
    "    dim = img.shape\n",
    "    \n",
    "    num_splits_0 = int(dim[0]/new_size)\n",
    "    num_splits_1 = int(dim[1]/new_size)\n",
    "    img_list_0 = [img[new_size*i: new_size*(i + 1), :] for i in range(num_splits_0)]\n",
    "    output_images = []\n",
    "    for im in img_list_0:\n",
    "        # This just concats the lists of images\n",
    "        output_images = output_images + [im[:, new_size*i: new_size*(i + 1)] for i in range(num_splits_1)]\n",
    "\n",
    "    return output_images\n",
    "\n",
    "def img_2_square_downcrop(img, new_size=128):\n",
    "    '''Generates a square from the original image by downsampling to a \n",
    "    lower resolution and cropping. Note that no interpolation is done here.\n",
    "    The lowest common multiple of newsize is found for each dimension.\n",
    "    The image is then cropped to new_size*LCM along both dimensions, and\n",
    "    then downsized by dropping the necessary number of columns and rows.\n",
    "    '''\n",
    "\n",
    "    img = np.array(img)\n",
    "    dim = img.shape\n",
    "    \n",
    "    if (dim[0] > dim[1]):\n",
    "        num_splits = int(dim[0]/dim[1])\n",
    "        step = int(dim[0]/num_splits)\n",
    "        img_list = [img[step*i: step*(i + 1), :] for i in range(num_splits)]\n",
    "    else:\n",
    "        num_splits = int(dim[1]/dim[0])\n",
    "        step = int(dim[1]/num_splits)\n",
    "        img_list = [img[:, step*i: step*(i + 1)] for i in range(num_splits)]\n",
    "\n",
    "    output_images = []\n",
    "    for im in img_list:\n",
    "        m = np.min([int(im.shape[0]/new_size), int(im.shape[1]/new_size)]) # lowest common multiple of new_size\n",
    "        im = im[:m*new_size, :m*new_size] # crop image to multiple of new_size\n",
    "        output_images.append(im[::m, ::m])\n",
    "\n",
    "    return output_images\n",
    "\n",
    "\n",
    "def add_info_to_train_csv(img_dir, labels_csv, save_path):\n",
    "    labels = pd.read_csv(labels_csv)\n",
    "    unique_ids = labels['ImageId'].unique()\n",
    "    rows = []\n",
    "    for id in tqdm(unique_ids):\n",
    "        img = imread(os.path.join(img_dir, id, 'images', id + '.png'))\n",
    "        vals = labels.loc[labels['ImageId'] == id]['EncodedPixels'].values\n",
    "        for val in vals:\n",
    "            rows.append([id, val, img.shape[0], img.shape[1], 'Public'])\n",
    "    df = pd.DataFrame(rows, columns=['ImageId', 'EncodedPixels', 'Height', 'Width', 'Usage'])\n",
    "    df.to_csv(save_path, index=False)\n",
    "\n",
    "\n",
    "def get_data(img_dir, labels_csv):\n",
    "    print('Generating Masks')\n",
    "    masks = CreateMask().generate_masks(labels_csv, iterator=tqdm)\n",
    "    rows = []\n",
    "    print('Processing Images')\n",
    "    for i, row in tqdm(masks.iterrows(), total=len(masks.index)):\n",
    "        id = row['ImageId']\n",
    "        mask = row['Mask']\n",
    "        img = imread(os.path.join(img_dir, id, 'images', id + '.png'), pilmode='RGB')\n",
    "        square_imgs = img_2_square(img)\n",
    "        square_masks = img_2_square(mask)\n",
    "        #square_imgs = [resize(img, (128, 128))]\n",
    "        #square_masks = [resize(mask, (128, 128))]\n",
    "        for i in range(len(square_imgs)):\n",
    "            rows.append([id, square_imgs[i], square_masks[i], len(square_imgs)])\n",
    "    \n",
    "    return pd.DataFrame(rows, columns=['image_id', 'image', 'mask', 'num_splits'])"
   ]
  },
  {
   "cell_type": "code",
   "execution_count": 8,
   "metadata": {},
   "outputs": [
    {
     "name": "stdout",
     "output_type": "stream",
     "text": [
      "Generating Masks\n"
     ]
    },
    {
     "data": {
      "application/vnd.jupyter.widget-view+json": {
       "model_id": "18076ba499ae437a9dadd7bd7fbd8df2",
       "version_major": 2,
       "version_minor": 0
      },
      "text/plain": [
       "  0%|          | 0/670 [00:00<?, ?it/s]"
      ]
     },
     "metadata": {},
     "output_type": "display_data"
    },
    {
     "name": "stdout",
     "output_type": "stream",
     "text": [
      "Processing Images\n"
     ]
    },
    {
     "data": {
      "application/vnd.jupyter.widget-view+json": {
       "model_id": "e229a5a6c2854102b4bfe6fe006a95a0",
       "version_major": 2,
       "version_minor": 0
      },
      "text/plain": [
       "  0%|          | 0/670 [00:00<?, ?it/s]"
      ]
     },
     "metadata": {},
     "output_type": "display_data"
    },
    {
     "name": "stdout",
     "output_type": "stream",
     "text": [
      "Shape:  (676, 4)\n"
     ]
    }
   ],
   "source": [
    "#add_info_to_train_csv(train_dir, labels_csv='kaggle_raw/stage1_train_labels.csv', save_path='kaggle_raw/stage1_train_labels_withmeta.csv')\n",
    "train_data = get_data(train_dir, train_mask_csv)\n",
    "print('Shape: ', (len(train_data.index), len(train_data.columns)))\n",
    "    "
   ]
  },
  {
   "cell_type": "code",
   "execution_count": 9,
   "metadata": {},
   "outputs": [
    {
     "name": "stdout",
     "output_type": "stream",
     "text": [
      "Generating Masks\n"
     ]
    },
    {
     "data": {
      "application/vnd.jupyter.widget-view+json": {
       "model_id": "6a219e7942b143d2826d02d7dadac631",
       "version_major": 2,
       "version_minor": 0
      },
      "text/plain": [
       "  0%|          | 0/65 [00:00<?, ?it/s]"
      ]
     },
     "metadata": {},
     "output_type": "display_data"
    },
    {
     "name": "stdout",
     "output_type": "stream",
     "text": [
      "Processing Images\n"
     ]
    },
    {
     "data": {
      "application/vnd.jupyter.widget-view+json": {
       "model_id": "269ff35b02984151bbb6f97f1c4106ae",
       "version_major": 2,
       "version_minor": 0
      },
      "text/plain": [
       "  0%|          | 0/65 [00:00<?, ?it/s]"
      ]
     },
     "metadata": {},
     "output_type": "display_data"
    },
    {
     "name": "stdout",
     "output_type": "stream",
     "text": [
      "Shape:  (82, 4)\n"
     ]
    }
   ],
   "source": [
    "val_data = get_data(val_dir, val_mask_csv)\n",
    "print('Shape: ', (len(val_data.index), len(val_data.columns)))"
   ]
  },
  {
   "cell_type": "code",
   "execution_count": 10,
   "metadata": {},
   "outputs": [
    {
     "name": "stdout",
     "output_type": "stream",
     "text": [
      "Generating Masks\n"
     ]
    },
    {
     "data": {
      "application/vnd.jupyter.widget-view+json": {
       "model_id": "e756982704f84b08ae1596e6bc88e322",
       "version_major": 2,
       "version_minor": 0
      },
      "text/plain": [
       "  0%|          | 0/3019 [00:00<?, ?it/s]"
      ]
     },
     "metadata": {},
     "output_type": "display_data"
    },
    {
     "name": "stdout",
     "output_type": "stream",
     "text": [
      "Processing Images\n"
     ]
    },
    {
     "data": {
      "application/vnd.jupyter.widget-view+json": {
       "model_id": "975c42efb9694e168c6e1f45712cfe23",
       "version_major": 2,
       "version_minor": 0
      },
      "text/plain": [
       "  0%|          | 0/106 [00:00<?, ?it/s]"
      ]
     },
     "metadata": {},
     "output_type": "display_data"
    },
    {
     "name": "stdout",
     "output_type": "stream",
     "text": [
      "Shape:  (116, 4)\n"
     ]
    }
   ],
   "source": [
    "test_data = get_data(test_dir, test_mask_csv)\n",
    "print('Shape: ', (len(test_data.index), len(test_data.columns)))"
   ]
  },
  {
   "cell_type": "code",
   "execution_count": 11,
   "metadata": {},
   "outputs": [],
   "source": [
    "save = False\n",
    "if save:\n",
    "    torch.save(train_data, 'resampled/train.pt')\n",
    "    torch.save(val_data, 'resampled/val.pt')\n",
    "    torch.save(test_data, 'resampled/test.pt')\n",
    "    print('Data Saved')"
   ]
  }
 ],
 "metadata": {
  "interpreter": {
   "hash": "d3a9543aec2f8534bb24b8aeb6f7a90e62cc17ac68d0ab0f603f0d4f81ac0ecc"
  },
  "kernelspec": {
   "display_name": "Python 3.8.6 ('nuclei-seg')",
   "language": "python",
   "name": "python3"
  },
  "language_info": {
   "codemirror_mode": {
    "name": "ipython",
    "version": 3
   },
   "file_extension": ".py",
   "mimetype": "text/x-python",
   "name": "python",
   "nbconvert_exporter": "python",
   "pygments_lexer": "ipython3",
   "version": "3.8.6"
  },
  "orig_nbformat": 4
 },
 "nbformat": 4,
 "nbformat_minor": 2
}
