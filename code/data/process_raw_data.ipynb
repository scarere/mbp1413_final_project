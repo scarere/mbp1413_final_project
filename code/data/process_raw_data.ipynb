{
 "cells": [
  {
   "cell_type": "markdown",
   "metadata": {},
   "source": [
    "# Process Data\n",
    "\n",
    "This notebook:\n",
    "- loads the raw images from the kaggle dataset\n",
    "- Converts them to a uniform size without distorting them\n",
    "- Generates the mask images for the test and validation images given the encoded solutions\n",
    "- Packages the images, their masks and the image id's into a dictionary and saves them."
   ]
  },
  {
   "cell_type": "markdown",
   "metadata": {},
   "source": [
    "## File Paths"
   ]
  },
  {
   "cell_type": "code",
   "execution_count": 2,
   "metadata": {},
   "outputs": [],
   "source": [
    "test_dir = 'kaggle_raw/stage2_test_final'\n",
    "val_dir = 'kaggle_raw/stage1_test'\n",
    "train_dir = 'kaggle_raw/stage1_train'\n",
    "train_mask_csv = 'kaggle_raw/stage1_train_labels_withmeta.csv'\n",
    "val_mask_csv = 'kaggle_raw/stage1_solution.csv'\n",
    "test_mask_csv = 'kaggle_raw/stage2_solution_final.csv'"
   ]
  },
  {
   "cell_type": "markdown",
   "metadata": {},
   "source": [
    "## Imports"
   ]
  },
  {
   "cell_type": "code",
   "execution_count": 3,
   "metadata": {},
   "outputs": [],
   "source": [
    "import numpy as np\n",
    "import torch\n",
    "from imageio import imread\n",
    "import pandas as pd\n",
    "import os\n",
    "from create_masks import CreateMask\n",
    "import matplotlib.pyplot as plt\n",
    "from tqdm.notebook import tqdm\n",
    "from skimage.transform import rescale"
   ]
  },
  {
   "cell_type": "markdown",
   "metadata": {},
   "source": [
    "## Data Loading Functions"
   ]
  },
  {
   "cell_type": "code",
   "execution_count": 21,
   "metadata": {},
   "outputs": [],
   "source": [
    "def img_2_square(img, new_size=128):\n",
    "    '''Crops and resizes an image into a square image without distorting\n",
    "    the contents of the image.\n",
    "\n",
    "    Args:\n",
    "        img: a numpy array ot tuple containing the image\n",
    "        new_size (int): An integer representing the length and width\n",
    "            of the ouput images\n",
    "\n",
    "    Returns:\n",
    "        output_images (list): A list containing the output images. If an\n",
    "            image is highly rectangular, then it is split into multiple\n",
    "            sub images in order to preserve as much data as possible\n",
    "    '''\n",
    "    img = np.array(img)\n",
    "    dim = img.shape\n",
    "    \n",
    "    if (dim[0] > dim[1]):\n",
    "        num_splits = int(dim[0]/dim[1] + 0.5)\n",
    "        step = int(dim[0]/num_splits)\n",
    "        img_list = [img[step*i: step*(i + 1), :] for i in range(num_splits)]\n",
    "    else:\n",
    "        num_splits = int(dim[1]/dim[0] + 0.5)\n",
    "        step = int(dim[1]/num_splits)\n",
    "        img_list = [img[:, step*i: step*(i + 1)] for i in range(num_splits)]\n",
    "    \n",
    "    output_images = []\n",
    "    for im in img_list:\n",
    "        # Scale the smaller dimension to the exact desired size, and crop the excess\n",
    "        im = rescale(im, scale=new_size/np.min(dim[0:2]))\n",
    "        im = im[:new_size, :new_size]\n",
    "        output_images.append(im)\n",
    "\n",
    "    return output_images\n",
    "\n",
    "def add_info_to_train_csv(img_dir, labels_csv, save_path):\n",
    "    labels = pd.read_csv(labels_csv)\n",
    "    unique_ids = labels['ImageId'].unique()\n",
    "    rows = []\n",
    "    for id in tqdm(unique_ids):\n",
    "        img = imread(os.path.join(img_dir, id, 'images', id + '.png'))\n",
    "        vals = labels.loc[labels['ImageId'] == id]['EncodedPixels'].values\n",
    "        for val in vals:\n",
    "            rows.append([id, val, img.shape[0], img.shape[1], 'Public'])\n",
    "    df = pd.DataFrame(rows, columns=['ImageId', 'EncodedPixels', 'Height', 'Width', 'Usage'])\n",
    "    df.to_csv(save_path, index=False)\n",
    "\n",
    "\n",
    "def get_data(img_dir, labels_csv, train=True):\n",
    "    masks = CreateMask().generate_masks(labels_csv, iterator=tqdm)\n",
    "    rows = []\n",
    "    for i, row in tqdm(masks.iterrows(), total=len(masks.index)):\n",
    "        id = row['ImageId']\n",
    "        mask = row['Mask']\n",
    "        if train:\n",
    "            img = imread(os.path.join(img_dir, id, 'images', id + '.png'), pilmode='RGB')\n",
    "        else:\n",
    "            img = imread(os.path.join(img_dir, id, id + '.png'), pilmode='RGB')\n",
    "        square_imgs = img_2_square(img)\n",
    "        square_masks = img_2_square(mask)\n",
    "        for i in range(len(square_imgs)):\n",
    "            rows.append([id, square_imgs[i], square_masks[i], len(square_imgs)])\n",
    "    \n",
    "    return pd.DataFrame(rows, columns=['image_id', 'image', 'mask', 'num_splits'])"
   ]
  },
  {
   "cell_type": "code",
   "execution_count": 22,
   "metadata": {},
   "outputs": [
    {
     "data": {
      "application/vnd.jupyter.widget-view+json": {
       "model_id": "5fbda0d931e944cca92aa60c407205ec",
       "version_major": 2,
       "version_minor": 0
      },
      "text/plain": [
       "  0%|          | 0/670 [00:00<?, ?it/s]"
      ]
     },
     "metadata": {},
     "output_type": "display_data"
    },
    {
     "data": {
      "application/vnd.jupyter.widget-view+json": {
       "model_id": "4cb24ed2665f4f41b0b375a04eab48a1",
       "version_major": 2,
       "version_minor": 0
      },
      "text/plain": [
       "  0%|          | 0/670 [00:00<?, ?it/s]"
      ]
     },
     "metadata": {},
     "output_type": "display_data"
    }
   ],
   "source": [
    "#add_info_to_train_csv(train_dir, labels_csv='kaggle_raw/stage1_train_labels.csv', save_path='kaggle_raw/stage1_train_labels_withmeta.csv')\n",
    "train = get_data(train_dir, train_mask_csv, train=True)\n",
    "    "
   ]
  },
  {
   "cell_type": "code",
   "execution_count": 24,
   "metadata": {},
   "outputs": [
    {
     "name": "stdout",
     "output_type": "stream",
     "text": [
      "Index(['image_id', 'image', 'mask', 'num_splits'], dtype='object')\n"
     ]
    }
   ],
   "source": [
    "print(train.keys())\n",
    "\n",
    "fig = plt.figure()\n",
    "i = 1\n",
    "for k in range(5):\n",
    "    fig.add_subplot(5, 2, i)\n",
    "    plt.imshow(train['image'][k])\n",
    "    fig.add_subplot(5, 2, i+1)\n",
    "    i = i+2"
   ]
  }
 ],
 "metadata": {
  "interpreter": {
   "hash": "d3a9543aec2f8534bb24b8aeb6f7a90e62cc17ac68d0ab0f603f0d4f81ac0ecc"
  },
  "kernelspec": {
   "display_name": "Python 3.8.6 ('nuclei-seg')",
   "language": "python",
   "name": "python3"
  },
  "language_info": {
   "codemirror_mode": {
    "name": "ipython",
    "version": 3
   },
   "file_extension": ".py",
   "mimetype": "text/x-python",
   "name": "python",
   "nbconvert_exporter": "python",
   "pygments_lexer": "ipython3",
   "version": "3.8.6"
  },
  "orig_nbformat": 4
 },
 "nbformat": 4,
 "nbformat_minor": 2
}
